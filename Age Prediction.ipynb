{
 "cells": [
  {
   "cell_type": "code",
   "execution_count": 1,
   "metadata": {},
   "outputs": [],
   "source": [
    "import numpy as np\n",
    "import matplotlib.pyplot as plt\n",
    "import pandas as pd\n",
    "from scipy.misc import *"
   ]
  },
  {
   "cell_type": "code",
   "execution_count": 2,
   "metadata": {},
   "outputs": [],
   "source": [
    "import os,sys\n",
    "from PIL import Image\n",
    "import cv2\n",
    "from tqdm import tqdm"
   ]
  },
  {
   "cell_type": "code",
   "execution_count": 3,
   "metadata": {},
   "outputs": [],
   "source": [
    "train = pd.read_csv(\"C:/Users/dhiren/Downloads/indian-movie-face-database-imfdb/train.csv\")\n",
    "test = pd.read_csv(\"C:/Users/dhiren/Downloads/indian-movie-face-database-imfdb/test.csv\")"
   ]
  },
  {
   "cell_type": "code",
   "execution_count": 4,
   "metadata": {},
   "outputs": [
    {
     "data": {
      "text/html": [
       "<div>\n",
       "<style scoped>\n",
       "    .dataframe tbody tr th:only-of-type {\n",
       "        vertical-align: middle;\n",
       "    }\n",
       "\n",
       "    .dataframe tbody tr th {\n",
       "        vertical-align: top;\n",
       "    }\n",
       "\n",
       "    .dataframe thead th {\n",
       "        text-align: right;\n",
       "    }\n",
       "</style>\n",
       "<table border=\"1\" class=\"dataframe\">\n",
       "  <thead>\n",
       "    <tr style=\"text-align: right;\">\n",
       "      <th></th>\n",
       "      <th>ID</th>\n",
       "      <th>Class</th>\n",
       "    </tr>\n",
       "  </thead>\n",
       "  <tbody>\n",
       "    <tr>\n",
       "      <th>0</th>\n",
       "      <td>377.jpg</td>\n",
       "      <td>MIDDLE</td>\n",
       "    </tr>\n",
       "    <tr>\n",
       "      <th>1</th>\n",
       "      <td>17814.jpg</td>\n",
       "      <td>YOUNG</td>\n",
       "    </tr>\n",
       "    <tr>\n",
       "      <th>2</th>\n",
       "      <td>21283.jpg</td>\n",
       "      <td>MIDDLE</td>\n",
       "    </tr>\n",
       "    <tr>\n",
       "      <th>3</th>\n",
       "      <td>16496.jpg</td>\n",
       "      <td>YOUNG</td>\n",
       "    </tr>\n",
       "    <tr>\n",
       "      <th>4</th>\n",
       "      <td>4487.jpg</td>\n",
       "      <td>MIDDLE</td>\n",
       "    </tr>\n",
       "  </tbody>\n",
       "</table>\n",
       "</div>"
      ],
      "text/plain": [
       "          ID   Class\n",
       "0    377.jpg  MIDDLE\n",
       "1  17814.jpg   YOUNG\n",
       "2  21283.jpg  MIDDLE\n",
       "3  16496.jpg   YOUNG\n",
       "4   4487.jpg  MIDDLE"
      ]
     },
     "execution_count": 4,
     "metadata": {},
     "output_type": "execute_result"
    }
   ],
   "source": [
    "train.head()"
   ]
  },
  {
   "cell_type": "code",
   "execution_count": 5,
   "metadata": {},
   "outputs": [
    {
     "data": {
      "text/html": [
       "<div>\n",
       "<style scoped>\n",
       "    .dataframe tbody tr th:only-of-type {\n",
       "        vertical-align: middle;\n",
       "    }\n",
       "\n",
       "    .dataframe tbody tr th {\n",
       "        vertical-align: top;\n",
       "    }\n",
       "\n",
       "    .dataframe thead th {\n",
       "        text-align: right;\n",
       "    }\n",
       "</style>\n",
       "<table border=\"1\" class=\"dataframe\">\n",
       "  <thead>\n",
       "    <tr style=\"text-align: right;\">\n",
       "      <th></th>\n",
       "      <th>ID</th>\n",
       "      <th>Class</th>\n",
       "    </tr>\n",
       "  </thead>\n",
       "  <tbody>\n",
       "    <tr>\n",
       "      <th>count</th>\n",
       "      <td>19906</td>\n",
       "      <td>19906</td>\n",
       "    </tr>\n",
       "    <tr>\n",
       "      <th>unique</th>\n",
       "      <td>19906</td>\n",
       "      <td>3</td>\n",
       "    </tr>\n",
       "    <tr>\n",
       "      <th>top</th>\n",
       "      <td>459.jpg</td>\n",
       "      <td>MIDDLE</td>\n",
       "    </tr>\n",
       "    <tr>\n",
       "      <th>freq</th>\n",
       "      <td>1</td>\n",
       "      <td>10804</td>\n",
       "    </tr>\n",
       "  </tbody>\n",
       "</table>\n",
       "</div>"
      ],
      "text/plain": [
       "             ID   Class\n",
       "count     19906   19906\n",
       "unique    19906       3\n",
       "top     459.jpg  MIDDLE\n",
       "freq          1   10804"
      ]
     },
     "execution_count": 5,
     "metadata": {},
     "output_type": "execute_result"
    }
   ],
   "source": [
    "train.describe()"
   ]
  },
  {
   "cell_type": "code",
   "execution_count": 6,
   "metadata": {},
   "outputs": [
    {
     "data": {
      "text/plain": [
       "MIDDLE    10804\n",
       "YOUNG      6706\n",
       "OLD        2396\n",
       "Name: Class, dtype: int64"
      ]
     },
     "execution_count": 6,
     "metadata": {},
     "output_type": "execute_result"
    }
   ],
   "source": [
    "train.Class.value_counts()"
   ]
  },
  {
   "cell_type": "code",
   "execution_count": 7,
   "metadata": {},
   "outputs": [],
   "source": [
    "TRAIN_PATH = 'C:/Users/dhiren/Downloads/indian-movie-face-database-imfdb/Train/Train/'\n",
    "TEST_PATH = 'C:/Users/dhiren/Downloads/indian-movie-face-database-imfdb/Test/Test/'"
   ]
  },
  {
   "cell_type": "code",
   "execution_count": 8,
   "metadata": {},
   "outputs": [],
   "source": [
    "# function to read images as arrays\n",
    "def read_image(img_path, mode = 'color', resize = False, size = 32):\n",
    "    '''\n",
    "    Default mode is : color(BGR) --> color(RGB)\n",
    "    Other modes allowed are : 'grayscale' and 'include_opacity'\n",
    "    '''\n",
    "    if mode == 'grayscale':\n",
    "        img = cv2.imread(img_path, cv2.IMREAD_GRAYSCALE)\n",
    "    elif mode == 'include_opacity':\n",
    "        img = cv2.imread(img_path, cv2.IMREAD_UNCHANGED)\n",
    "    else:\n",
    "        img = cv2.imread(img_path, cv2.IMREAD_COLOR)\n",
    "        img = cv2.cvtColor(img, cv2.COLOR_BGR2RGB)\n",
    "    \n",
    "    if resize == True:\n",
    "        img = cv2.resize(img, (size, size))\n",
    "    \n",
    "    return img"
   ]
  },
  {
   "cell_type": "code",
   "execution_count": 9,
   "metadata": {},
   "outputs": [
    {
     "name": "stderr",
     "output_type": "stream",
     "text": [
      "100%|████████████████████████████████████| 19906/19906 [06:31<00:00, 50.79it/s]\n",
      "100%|██████████████████████████████████████| 6636/6636 [02:00<00:00, 55.29it/s]\n"
     ]
    }
   ],
   "source": [
    "## Storing all images as list of arrays\n",
    "train_data = []\n",
    "test_data = []\n",
    "\n",
    "for img in tqdm(train['ID'].values):\n",
    "    train_data.append(read_image(TRAIN_PATH + '{}'.format(img), resize = True, size = 32))\n",
    "    \n",
    "for img in tqdm(test['ID'].values):\n",
    "    test_data.append(read_image(TEST_PATH + '{}'.format(img), resize = True, size = 32))"
   ]
  },
  {
   "cell_type": "code",
   "execution_count": 10,
   "metadata": {},
   "outputs": [],
   "source": [
    "y_train = train['Class'].values"
   ]
  },
  {
   "cell_type": "code",
   "execution_count": 11,
   "metadata": {},
   "outputs": [
    {
     "data": {
      "text/plain": [
       "array(['MIDDLE', 'YOUNG', 'MIDDLE', ..., 'MIDDLE', 'MIDDLE', 'MIDDLE'],\n",
       "      dtype=object)"
      ]
     },
     "execution_count": 11,
     "metadata": {},
     "output_type": "execute_result"
    }
   ],
   "source": [
    "y_train"
   ]
  },
  {
   "cell_type": "code",
   "execution_count": 12,
   "metadata": {},
   "outputs": [],
   "source": [
    "## Checking dimensions and aspect ratio of original images (without resizing)\n",
    "rows = [x.shape[0] for x in (train_data+test_data)]\n",
    "cols = [x.shape[1] for x in (train_data+test_data)]\n",
    "channels = [x.shape[2] for x in (train_data+test_data)]\n",
    "aspect_ratio = [x.shape[0]/x.shape[1] for x in (train_data+test_data)]"
   ]
  },
  {
   "cell_type": "code",
   "execution_count": 13,
   "metadata": {},
   "outputs": [
    {
     "name": "stdout",
     "output_type": "stream",
     "text": [
      "Min. and Max. rows = 32 and 32 respectively \n",
      "Min. and Max. cols = 32 and 32 respectively \n",
      "Min. and Max. channels = 3 and 3 respectively \n",
      "Min. and Max. aspect ratio = 1.0 and 1.0 respectively \n",
      "\n"
     ]
    }
   ],
   "source": [
    "## Checking range of the dimesnions and aspect ratio\n",
    "print(\"Min. and Max. rows = {} and {} respectively \\nMin. and Max. cols = {} and {} respectively \\nMin. and Max. channels = {} and {} respectively \\nMin. and Max. aspect ratio = {} and {} respectively \\n\"\n",
    "      .format(min(rows), max(rows), min(cols), max(cols), min(channels), max(channels), min(aspect_ratio), max(aspect_ratio)))"
   ]
  },
  {
   "cell_type": "code",
   "execution_count": 14,
   "metadata": {},
   "outputs": [
    {
     "data": {
      "text/plain": [
       "<matplotlib.image.AxesImage at 0x7f1c2b0788>"
      ]
     },
     "execution_count": 14,
     "metadata": {},
     "output_type": "execute_result"
    },
    {
     "data": {
      "image/png": "[encoded data removed]",
      "text/plain": [
       "<Figure size 432x288 with 1 Axes>"
      ]
     },
     "metadata": {
      "needs_background": "light"
     },
     "output_type": "display_data"
    }
   ],
   "source": [
    "## Displaying random images without resizing\n",
    "i = np.random.choice(np.arange(len(train_data)))\n",
    "\n",
    "plt.title('{} - {} ; shape : {}'.format(train['ID'].values[i], y_train[i], train_data[i].shape))\n",
    "plt.imshow(train_data[i])"
   ]
  },
  {
   "cell_type": "code",
   "execution_count": 15,
   "metadata": {},
   "outputs": [],
   "source": [
    "## Scaling the images\n",
    "X_train = np.array(train_data, np.float32) / 255.\n",
    "X_test = np.array(test_data, np.float32) / 255."
   ]
  },
  {
   "cell_type": "code",
   "execution_count": 16,
   "metadata": {},
   "outputs": [],
   "source": [
    "# Encoding image labels into target variables (categorical)\n",
    "from sklearn.preprocessing import LabelEncoder,OneHotEncoder\n",
    "le = LabelEncoder()\n",
    "y_train = le.fit_transform(y_train)\n",
    "\n",
    "#ohe = OneHotEncoder(categorical_features = [0])\n",
    "#y_train = ohe.fit_transform(y_train.reshape(-1,1)).toarray()\n",
    "y_train = pd.get_dummies(y_train).values"
   ]
  },
  {
   "cell_type": "code",
   "execution_count": 17,
   "metadata": {},
   "outputs": [
    {
     "data": {
      "text/plain": [
       "(19906, 3)"
      ]
     },
     "execution_count": 17,
     "metadata": {},
     "output_type": "execute_result"
    }
   ],
   "source": [
    "y_train.shape"
   ]
  },
  {
   "cell_type": "code",
   "execution_count": 18,
   "metadata": {},
   "outputs": [],
   "source": [
    "# Importing the Keras libraries and packages\n",
    "import keras\n",
    "from keras.models import Sequential, Model\n",
    "from keras.layers import *\n",
    "from keras.layers.advanced_activations import PReLU, LeakyReLU, ELU\n",
    "from keras.optimizers import Adam\n",
    "from keras.constraints import maxnorm\n",
    "\n",
    "from keras import backend as K\n",
    "K.image_data_format()\n",
    "\n",
    "from keras.preprocessing import image"
   ]
  },
  {
   "cell_type": "code",
   "execution_count": 19,
   "metadata": {},
   "outputs": [],
   "source": [
    "import os\n",
    "os.environ['KERAS_BACKEND'] = 'theano'\n",
    "import keras "
   ]
  },
  {
   "cell_type": "code",
   "execution_count": 20,
   "metadata": {},
   "outputs": [],
   "source": [
    "model = Sequential([\n",
    "        BatchNormalization(input_shape = (32,32,3)),\n",
    "        Convolution2D(28,(3,3), activation='linear'),\n",
    "        LeakyReLU(alpha = 0.3),\n",
    "        BatchNormalization(),\n",
    "        Convolution2D(32,(3,3), activation='linear'),\n",
    "        LeakyReLU(alpha = 0.3),\n",
    "        BatchNormalization(),\n",
    "        MaxPooling2D(),\n",
    "        Convolution2D(64,(3,3), activation='linear'),\n",
    "        LeakyReLU(alpha = 0.3),\n",
    "        BatchNormalization(),\n",
    "        Convolution2D(128,(3,3), activation='linear'),\n",
    "        LeakyReLU(alpha = 0.3),\n",
    "        BatchNormalization(),\n",
    "        MaxPooling2D(pool_size=(2, 2)),\n",
    "        Flatten(),\n",
    "        Dropout(0.2),\n",
    "        Dense(384, activation='linear'),\n",
    "        LeakyReLU(alpha = 0.3),\n",
    "        Dropout(0.2),\n",
    "        Dense(3, activation='softmax')\n",
    "        ])\n",
    "model.compile(optimizer = Adam(learning_rate=0.001) , loss='categorical_crossentropy', metrics=['accuracy'])"
   ]
  },
  {
   "cell_type": "code",
   "execution_count": 21,
   "metadata": {},
   "outputs": [],
   "source": [
    "## Saving initial un-trained weights for future use\n",
    "model.save_weights('initial_weights.h5')"
   ]
  },
  {
   "cell_type": "code",
   "execution_count": 22,
   "metadata": {},
   "outputs": [
    {
     "name": "stdout",
     "output_type": "stream",
     "text": [
      "Model: \"sequential\"\n",
      "_________________________________________________________________\n",
      "Layer (type)                 Output Shape              Param #   \n",
      "=================================================================\n",
      "batch_normalization (BatchNo (None, 32, 32, 3)         12        \n",
      "_________________________________________________________________\n",
      "conv2d (Conv2D)              (None, 30, 30, 28)        784       \n",
      "_________________________________________________________________\n",
      "leaky_re_lu (LeakyReLU)      (None, 30, 30, 28)        0         \n",
      "_________________________________________________________________\n",
      "batch_normalization_1 (Batch (None, 30, 30, 28)        112       \n",
      "_________________________________________________________________\n",
      "conv2d_1 (Conv2D)            (None, 28, 28, 32)        8096      \n",
      "_________________________________________________________________\n",
      "leaky_re_lu_1 (LeakyReLU)    (None, 28, 28, 32)        0         \n",
      "_________________________________________________________________\n",
      "batch_normalization_2 (Batch (None, 28, 28, 32)        128       \n",
      "_________________________________________________________________\n",
      "max_pooling2d (MaxPooling2D) (None, 14, 14, 32)        0         \n",
      "_________________________________________________________________\n",
      "conv2d_2 (Conv2D)            (None, 12, 12, 64)        18496     \n",
      "_________________________________________________________________\n",
      "leaky_re_lu_2 (LeakyReLU)    (None, 12, 12, 64)        0         \n",
      "_________________________________________________________________\n",
      "batch_normalization_3 (Batch (None, 12, 12, 64)        256       \n",
      "_________________________________________________________________\n",
      "conv2d_3 (Conv2D)            (None, 10, 10, 128)       73856     \n",
      "_________________________________________________________________\n",
      "leaky_re_lu_3 (LeakyReLU)    (None, 10, 10, 128)       0         \n",
      "_________________________________________________________________\n",
      "batch_normalization_4 (Batch (None, 10, 10, 128)       512       \n",
      "_________________________________________________________________\n",
      "max_pooling2d_1 (MaxPooling2 (None, 5, 5, 128)         0         \n",
      "_________________________________________________________________\n",
      "flatten (Flatten)            (None, 3200)              0         \n",
      "_________________________________________________________________\n",
      "dropout (Dropout)            (None, 3200)              0         \n",
      "_________________________________________________________________\n",
      "dense (Dense)                (None, 384)               1229184   \n",
      "_________________________________________________________________\n",
      "leaky_re_lu_4 (LeakyReLU)    (None, 384)               0         \n",
      "_________________________________________________________________\n",
      "dropout_1 (Dropout)          (None, 384)               0         \n",
      "_________________________________________________________________\n",
      "dense_1 (Dense)              (None, 3)                 1155      \n",
      "=================================================================\n",
      "Total params: 1,332,591\n",
      "Trainable params: 1,332,081\n",
      "Non-trainable params: 510\n",
      "_________________________________________________________________\n"
     ]
    }
   ],
   "source": [
    "model.summary()"
   ]
  },
  {
   "cell_type": "code",
   "execution_count": 23,
   "metadata": {},
   "outputs": [],
   "source": [
    "## Building a custom function for learning rate decay/annealing\n",
    "def lr_decay(start, stop, div_step_1, div_step_2 = 2) :\n",
    "    k = 1\n",
    "    while start >= stop:\n",
    "        yield start\n",
    "        if k==1 :\n",
    "            start/= div_step_1\n",
    "        else : start/= div_step_2\n",
    "        k = k * -1"
   ]
  },
  {
   "cell_type": "code",
   "execution_count": 24,
   "metadata": {},
   "outputs": [],
   "source": [
    "from sklearn.model_selection import train_test_split\n",
    "X_trn, X_valid, y_trn, y_valid = train_test_split(X_train, y_train, test_size = 0.2)"
   ]
  },
  {
   "cell_type": "code",
   "execution_count": 25,
   "metadata": {},
   "outputs": [],
   "source": [
    "gen = image.ImageDataGenerator(rotation_range=15, width_shift_range=0.1, shear_range=0.25,\n",
    "                               height_shift_range=0.1, zoom_range=0.2, horizontal_flip = True)\n",
    "batches = gen.flow(X_trn, y_trn, batch_size = 64)\n",
    "val_batches = gen.flow(X_valid, y_valid, batch_size = 64)"
   ]
  },
  {
   "cell_type": "code",
   "execution_count": 26,
   "metadata": {},
   "outputs": [
    {
     "name": "stdout",
     "output_type": "stream",
     "text": [
      "WARNING:tensorflow:From <ipython-input-26-2fce2fe8c3fc>:2: Model.fit_generator (from tensorflow.python.keras.engine.training) is deprecated and will be removed in a future version.\n",
      "Instructions for updating:\n",
      "Please use Model.fit, which supports generators.\n",
      "Epoch 1/10\n",
      "248/248 [==============================] - 193s 780ms/step - loss: 1.3621 - accuracy: 0.5615 - val_loss: 1.0394 - val_accuracy: 0.5048\n",
      "Epoch 2/10\n",
      "248/248 [==============================] - 167s 673ms/step - loss: 0.8528 - accuracy: 0.6279 - val_loss: 0.8607 - val_accuracy: 0.6134\n",
      "Epoch 3/10\n",
      "248/248 [==============================] - 161s 649ms/step - loss: 0.7672 - accuracy: 0.6648 - val_loss: 0.7498 - val_accuracy: 0.6815\n",
      "Epoch 4/10\n",
      "248/248 [==============================] - 161s 651ms/step - loss: 0.7316 - accuracy: 0.6838 - val_loss: 0.7188 - val_accuracy: 0.6847\n",
      "Epoch 5/10\n",
      "248/248 [==============================] - 159s 643ms/step - loss: 0.7163 - accuracy: 0.6901 - val_loss: 0.7390 - val_accuracy: 0.6784\n",
      "Epoch 6/10\n",
      "248/248 [==============================] - 162s 654ms/step - loss: 0.6971 - accuracy: 0.7046 - val_loss: 0.7004 - val_accuracy: 0.6988\n",
      "Epoch 7/10\n",
      "248/248 [==============================] - 164s 660ms/step - loss: 0.6839 - accuracy: 0.7053 - val_loss: 0.7236 - val_accuracy: 0.6991\n",
      "Epoch 8/10\n",
      "248/248 [==============================] - 162s 655ms/step - loss: 0.6815 - accuracy: 0.7067 - val_loss: 0.7901 - val_accuracy: 0.6603\n",
      "Epoch 9/10\n",
      "248/248 [==============================] - 177s 713ms/step - loss: 0.6719 - accuracy: 0.7175 - val_loss: 0.6760 - val_accuracy: 0.7167\n",
      "Epoch 10/10\n",
      "248/248 [==============================] - 177s 714ms/step - loss: 0.6668 - accuracy: 0.7105 - val_loss: 0.6874 - val_accuracy: 0.7261\n"
     ]
    },
    {
     "data": {
      "text/plain": [
       "<tensorflow.python.keras.callbacks.History at 0x7f31219088>"
      ]
     },
     "execution_count": 26,
     "metadata": {},
     "output_type": "execute_result"
    }
   ],
   "source": [
    "model.fit_generator(batches, (X_trn.shape[0]//batches.batch_size), epochs=10,\n",
    "                    validation_data = val_batches, validation_steps = (X_valid.shape[0]//val_batches.batch_size))"
   ]
  },
  {
   "cell_type": "code",
   "execution_count": 27,
   "metadata": {},
   "outputs": [],
   "source": [
    "## Saving weights as a form of model checkpointing\n",
    "model.save_weights('leakyReLU_age-detection_weights.h5')"
   ]
  },
  {
   "cell_type": "code",
   "execution_count": 28,
   "metadata": {},
   "outputs": [],
   "source": [
    "## Building the autoencoder pipeline\n",
    "\n",
    "input_img = Input(shape=(32, 32, 3))\n",
    "x = Conv2D(32, (3, 3), activation='relu', padding='same')(input_img)\n",
    "x = MaxPooling2D((2, 2), padding='same')(x)\n",
    "x = Conv2D(16, (3, 3), activation='relu', padding='same')(x)\n",
    "x = MaxPooling2D((2, 2), padding='same')(x)\n",
    "x = Conv2D(8, (3, 3), activation='relu', padding='same')(x)\n",
    "encoded = MaxPooling2D((2, 2), padding='same')(x)\n",
    "\n",
    "# at this point the representation is (8, 4, 4, 3) i.e. 384-dimensional\n",
    "\n",
    "x = Conv2D(8, (3, 3), activation='relu', padding='same')(encoded)\n",
    "x = UpSampling2D((2, 2))(x)\n",
    "x = Conv2D(16, (3, 3), activation='relu', padding='same')(x)\n",
    "x = UpSampling2D((2, 2))(x)\n",
    "x = Conv2D(32, (3, 3), activation='relu', padding = 'same')(x)\n",
    "x = UpSampling2D((2, 2))(x)\n",
    "decoded = Conv2D(3, (3, 3), activation='sigmoid', padding='same')(x)"
   ]
  },
  {
   "cell_type": "code",
   "execution_count": 29,
   "metadata": {},
   "outputs": [],
   "source": [
    "## Composing the autoencoder model and compiling it\n",
    "autoencoder = Model(input_img, decoded)\n",
    "autoencoder.compile(optimizer='adadelta', loss='binary_crossentropy')"
   ]
  },
  {
   "cell_type": "code",
   "execution_count": 30,
   "metadata": {},
   "outputs": [
    {
     "name": "stdout",
     "output_type": "stream",
     "text": [
      "Model: \"model\"\n",
      "_________________________________________________________________\n",
      "Layer (type)                 Output Shape              Param #   \n",
      "=================================================================\n",
      "input_1 (InputLayer)         [(None, 32, 32, 3)]       0         \n",
      "_________________________________________________________________\n",
      "conv2d_4 (Conv2D)            (None, 32, 32, 32)        896       \n",
      "_________________________________________________________________\n",
      "max_pooling2d_2 (MaxPooling2 (None, 16, 16, 32)        0         \n",
      "_________________________________________________________________\n",
      "conv2d_5 (Conv2D)            (None, 16, 16, 16)        4624      \n",
      "_________________________________________________________________\n",
      "max_pooling2d_3 (MaxPooling2 (None, 8, 8, 16)          0         \n",
      "_________________________________________________________________\n",
      "conv2d_6 (Conv2D)            (None, 8, 8, 8)           1160      \n",
      "_________________________________________________________________\n",
      "max_pooling2d_4 (MaxPooling2 (None, 4, 4, 8)           0         \n",
      "_________________________________________________________________\n",
      "conv2d_7 (Conv2D)            (None, 4, 4, 8)           584       \n",
      "_________________________________________________________________\n",
      "up_sampling2d (UpSampling2D) (None, 8, 8, 8)           0         \n",
      "_________________________________________________________________\n",
      "conv2d_8 (Conv2D)            (None, 8, 8, 16)          1168      \n",
      "_________________________________________________________________\n",
      "up_sampling2d_1 (UpSampling2 (None, 16, 16, 16)        0         \n",
      "_________________________________________________________________\n",
      "conv2d_9 (Conv2D)            (None, 16, 16, 32)        4640      \n",
      "_________________________________________________________________\n",
      "up_sampling2d_2 (UpSampling2 (None, 32, 32, 32)        0         \n",
      "_________________________________________________________________\n",
      "conv2d_10 (Conv2D)           (None, 32, 32, 3)         867       \n",
      "=================================================================\n",
      "Total params: 13,939\n",
      "Trainable params: 13,939\n",
      "Non-trainable params: 0\n",
      "_________________________________________________________________\n"
     ]
    }
   ],
   "source": [
    "autoencoder.summary()"
   ]
  },
  {
   "cell_type": "code",
   "execution_count": 31,
   "metadata": {},
   "outputs": [],
   "source": [
    "from keras.callbacks import TensorBoard"
   ]
  },
  {
   "cell_type": "code",
   "execution_count": 32,
   "metadata": {},
   "outputs": [
    {
     "name": "stdout",
     "output_type": "stream",
     "text": [
      "Epoch 1/10\n",
      "312/312 [==============================] - 98s 315ms/step - loss: 0.6954 - val_loss: 0.6950\n",
      "Epoch 2/10\n",
      "312/312 [==============================] - 98s 313ms/step - loss: 0.6947 - val_loss: 0.6944\n",
      "Epoch 3/10\n",
      "312/312 [==============================] - 99s 316ms/step - loss: 0.6940 - val_loss: 0.6937\n",
      "Epoch 4/10\n",
      "312/312 [==============================] - 97s 310ms/step - loss: 0.6934 - val_loss: 0.6931\n",
      "Epoch 5/10\n",
      "312/312 [==============================] - 97s 311ms/step - loss: 0.6928 - val_loss: 0.6925\n",
      "Epoch 6/10\n",
      "312/312 [==============================] - 96s 309ms/step - loss: 0.6922 - val_loss: 0.6919\n",
      "Epoch 7/10\n",
      "312/312 [==============================] - 97s 311ms/step - loss: 0.6914 - val_loss: 0.6910\n",
      "Epoch 8/10\n",
      "312/312 [==============================] - 98s 314ms/step - loss: 0.6905 - val_loss: 0.6900\n",
      "Epoch 9/10\n",
      "312/312 [==============================] - 100s 321ms/step - loss: 0.6894 - val_loss: 0.6889\n",
      "Epoch 10/10\n",
      "312/312 [==============================] - 98s 314ms/step - loss: 0.6883 - val_loss: 0.6878\n"
     ]
    },
    {
     "data": {
      "text/plain": [
       "<tensorflow.python.keras.callbacks.History at 0x7f405f0808>"
      ]
     },
     "execution_count": 32,
     "metadata": {},
     "output_type": "execute_result"
    }
   ],
   "source": [
    "## Fitting the autoencoder model\n",
    "autoencoder.fit(X_train, X_train,\n",
    "                epochs= 10,\n",
    "                batch_size= 64,\n",
    "                shuffle= True,\n",
    "                validation_data= (X_test, X_test))\n",
    "                #callbacks=[TensorBoard(log_dir='/tmp/autoencoder')])"
   ]
  },
  {
   "cell_type": "code",
   "execution_count": 33,
   "metadata": {},
   "outputs": [
    {
     "name": "stdout",
     "output_type": "stream",
     "text": [
      "Epoch 1/10\n",
      "312/312 [==============================] - 100s 320ms/step - loss: 0.6872 - val_loss: 0.6867\n",
      "Epoch 2/10\n",
      "312/312 [==============================] - 110s 351ms/step - loss: 0.6861 - val_loss: 0.6856\n",
      "Epoch 3/10\n",
      "312/312 [==============================] - 90s 288ms/step - loss: 0.6849 - val_loss: 0.6843\n",
      "Epoch 4/10\n",
      "312/312 [==============================] - 91s 290ms/step - loss: 0.6836 - val_loss: 0.6830\n",
      "Epoch 5/10\n",
      "312/312 [==============================] - 90s 289ms/step - loss: 0.6823 - val_loss: 0.6817\n",
      "Epoch 6/10\n",
      "312/312 [==============================] - 90s 289ms/step - loss: 0.6809 - val_loss: 0.6803\n",
      "Epoch 7/10\n",
      "312/312 [==============================] - 90s 290ms/step - loss: 0.6795 - val_loss: 0.6788\n",
      "Epoch 8/10\n",
      "312/312 [==============================] - 91s 292ms/step - loss: 0.6779 - val_loss: 0.6772\n",
      "Epoch 9/10\n",
      "312/312 [==============================] - 90s 289ms/step - loss: 0.6763 - val_loss: 0.6756\n",
      "Epoch 10/10\n",
      "312/312 [==============================] - 91s 291ms/step - loss: 0.6746 - val_loss: 0.6739\n"
     ]
    },
    {
     "data": {
      "text/plain": [
       "<tensorflow.python.keras.callbacks.History at 0x7f51d87988>"
      ]
     },
     "execution_count": 33,
     "metadata": {},
     "output_type": "execute_result"
    }
   ],
   "source": [
    "autoencoder.fit(X_train, X_train,\n",
    "                epochs= 10,\n",
    "                batch_size= 64,\n",
    "                shuffle= True,\n",
    "                validation_data= (X_test, X_test))"
   ]
  },
  {
   "cell_type": "code",
   "execution_count": 34,
   "metadata": {},
   "outputs": [
    {
     "data": {
      "text/plain": [
       "(6636, 32, 32, 3)"
      ]
     },
     "execution_count": 34,
     "metadata": {},
     "output_type": "execute_result"
    }
   ],
   "source": [
    "X_test.shape"
   ]
  },
  {
   "cell_type": "code",
   "execution_count": 35,
   "metadata": {},
   "outputs": [],
   "source": [
    "decoded_imgs = autoencoder.predict(X_test)"
   ]
  },
  {
   "cell_type": "code",
   "execution_count": 36,
   "metadata": {},
   "outputs": [],
   "source": [
    "predictions = model.predict(X_test)\n",
    "predictions = np.argmax(predictions, axis= 1)"
   ]
  },
  {
   "cell_type": "code",
   "execution_count": 37,
   "metadata": {},
   "outputs": [],
   "source": [
    "# Converting predicted category numbers to predicted labels\n",
    "unique_labels = np.unique(train['Class'].tolist())\n",
    "pred_labels = unique_labels[predictions]"
   ]
  },
  {
   "cell_type": "code",
   "execution_count": 38,
   "metadata": {
    "scrolled": true
   },
   "outputs": [
    {
     "data": {
      "text/plain": [
       "<matplotlib.image.AxesImage at 0x7f51fa8d88>"
      ]
     },
     "execution_count": 38,
     "metadata": {},
     "output_type": "execute_result"
    },
    {
     "data": {
      "image/png": "[encoded data removed]",
      "text/plain": [
       "<Figure size 432x288 with 1 Axes>"
      ]
     },
     "metadata": {
      "needs_background": "light"
     },
     "output_type": "display_data"
    }
   ],
   "source": [
    "## Let's see what our classifier predicts on test images\n",
    "# Random predictions\n",
    "i = np.random.choice(np.arange(len(test_data)))\n",
    "plt.title('{} - Predicted class : {}'.format(test['ID'].values[i], pred_labels[i]))\n",
    "plt.imshow(test_data[i])"
   ]
  },
  {
   "cell_type": "code",
   "execution_count": null,
   "metadata": {},
   "outputs": [],
   "source": [
    "# Prepare submission file\n",
    "subm = pd.DataFrame({'Class':pred_labels, 'ID':test.ID})\n",
    "subm.to_csv('/home/akshay/Desktop/ageprediction.csv', index=False)"
   ]
  },
  {
   "cell_type": "code",
   "execution_count": null,
   "metadata": {},
   "outputs": [],
   "source": []
  },
  {
   "cell_type": "code",
   "execution_count": null,
   "metadata": {},
   "outputs": [],
   "source": []
  },
  {
   "cell_type": "code",
   "execution_count": null,
   "metadata": {},
   "outputs": [],
   "source": []
  },
  {
   "cell_type": "code",
   "execution_count": 39,
   "metadata": {},
   "outputs": [],
   "source": [
    "from tkinter import * \n",
    "from PIL import ImageTk, Image  \n",
    "from tkinter import filedialog\n",
    "from tkinter.ttk import *\n",
    "from tkinter.scrolledtext import ScrolledText\n",
    "\n",
    "root = Tk()\n",
    "root.title('Age Prediction')\n",
    "root.geometry('1360x780')\n",
    "\n",
    "head = Label(root, text='Welcome to Age Prediction', font='comicsansms 19 bold', background='#66ffc2', foreground='black')\n",
    "head.pack(pady=20)\n",
    "\n",
    "def open_img(): \n",
    "    # Select the Imagename  from a folder  \n",
    "    x = openfilename() \n",
    "  \n",
    "    # opens the image \n",
    "    img = Image.open(x) \n",
    "      \n",
    "    # resize the image and apply a high-quality down sampling filter \n",
    "    img_resize = img.resize((250, 250), Image.ANTIALIAS) \n",
    "  \n",
    "    # PhotoImage class is used to add image to widgets, icons etc \n",
    "    img_plot = ImageTk.PhotoImage(img_resize) \n",
    "   \n",
    "    # create a label \n",
    "    panel = Label(root, image = img_plot) \n",
    "      \n",
    "    # set the image as img  \n",
    "    panel.image = img_plot\n",
    "    panel.pack(pady=10)\n",
    "    \n",
    "    # give image for prediction\n",
    "    mylist = []\n",
    "    mylist.append(read_image(x, resize = True, size = 32))\n",
    "    testing = np.array(mylist, np.float32) / 255.\n",
    "    predictions = model.predict(testing)\n",
    "    predictions = np.argmax(predictions, axis= 1)\n",
    "    unique_labels = np.unique(train['Class'].tolist())\n",
    "    pred_labels = unique_labels[predictions]\n",
    "    \n",
    "    show = f\"By using Age Prediction Model, The person in above image is {pred_labels[0]} aged person\"\n",
    "    Label(root, text=show, font = 'comicsansms 12', background='#66ffc2', foreground='black').pack(pady=10)\n",
    "\n",
    "def openfilename(): \n",
    "  \n",
    "    # open file dialog box to select image \n",
    "    # The dialogue box has a title \"Open\" \n",
    "    filename = filedialog.askopenfilename(title ='open') \n",
    "    return filename \n",
    "\n",
    "Label(root, text = 'Enter the following button to select an image', font = 'comicsansms 12', background='#66ffc2', foreground='black').pack(pady=10)\n",
    "style = Style()\n",
    "style.configure('W.TButton', font='comicsansms 11', background='#66ffc2')\n",
    "btn = Button(root, text ='open image', command = open_img, style='W.TButton').pack()\n",
    "\n",
    "root['bg'] = '#66ffc2'\n",
    "mainloop()"
   ]
  },
  {
   "cell_type": "code",
   "execution_count": null,
   "metadata": {},
   "outputs": [],
   "source": []
  },
  {
   "cell_type": "code",
   "execution_count": null,
   "metadata": {},
   "outputs": [],
   "source": []
  }
 ],
 "metadata": {
  "kernelspec": {
   "display_name": "Python 3",
   "language": "python",
   "name": "python3"
  },
  "language_info": {
   "codemirror_mode": {
    "name": "ipython",
    "version": 3
   },
   "file_extension": ".py",
   "mimetype": "text/x-python",
   "name": "python",
   "nbconvert_exporter": "python",
   "pygments_lexer": "ipython3",
   "version": "3.7.6"
  }
 },
 "nbformat": 4,
 "nbformat_minor": 4
}
